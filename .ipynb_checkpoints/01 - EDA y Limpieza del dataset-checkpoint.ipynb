{
 "cells": [
  {
   "cell_type": "code",
   "execution_count": 1,
   "id": "4419d13b-b996-410b-9010-99e84688a1c8",
   "metadata": {},
   "outputs": [],
   "source": [
    "import pandas as pd\n",
    "import numpy as np\n",
    "import seaborn as sns\n",
    "import matplotlib.pyplot as plt\n",
    "%matplotlib inline"
   ]
  },
  {
   "cell_type": "code",
   "execution_count": 2,
   "id": "fd58c8b5-3de0-40aa-a21d-ac78b7fec5b9",
   "metadata": {},
   "outputs": [],
   "source": [
    "import warnings\n",
    "warnings.filterwarnings(\"ignore\", category=pd.errors.SettingWithCopyWarning)"
   ]
  },
  {
   "cell_type": "code",
   "execution_count": 3,
   "id": "68107326-97d1-4d93-b792-3d7b1ace7992",
   "metadata": {},
   "outputs": [
    {
     "name": "stderr",
     "output_type": "stream",
     "text": [
      "\n",
      "KeyboardInterrupt\n",
      "\n"
     ]
    }
   ],
   "source": [
    "#Importar datos\n",
    "dfA = pd.read_excel('../01 - Datos bruto/01.21-12.22.xlsx')\n",
    "dfB = pd.read_excel('../01 - Datos bruto/12.22-12.23.xlsx')\n",
    "dfC = pd.read_excel('../01 - Datos bruto/12.23-07.24.xlsx')"
   ]
  },
  {
   "cell_type": "markdown",
   "id": "30c26cec-b37c-467d-a920-17cdb982e547",
   "metadata": {},
   "source": [
    "## 1: Limpieza y preparación del Dataset"
   ]
  },
  {
   "cell_type": "code",
   "execution_count": null,
   "id": "08d7a432-d730-41e3-9a18-6bbaf281acb2",
   "metadata": {},
   "outputs": [],
   "source": [
    "#Concatenar\n",
    "df = pd.concat([dfA, dfB, dfC])"
   ]
  },
  {
   "cell_type": "code",
   "execution_count": null,
   "id": "303f8462-1641-4d58-8493-caa8d51d1b7b",
   "metadata": {},
   "outputs": [],
   "source": [
    "#Checkear duplicados\n",
    "df.duplicated().sum()"
   ]
  },
  {
   "cell_type": "code",
   "execution_count": null,
   "id": "485d1471-8cd6-4923-8d38-9b7e7cf65aa1",
   "metadata": {},
   "outputs": [],
   "source": [
    "#Eliminar duplicados\n",
    "df = df.drop_duplicates()"
   ]
  },
  {
   "cell_type": "code",
   "execution_count": null,
   "id": "6125b909-2f90-4e35-899b-c73943491808",
   "metadata": {},
   "outputs": [],
   "source": [
    "#Renombrar columnas\n",
    "columnas = ['nodos','fecha_arch', 'hora_arch', 'scanner', 'codigo', 'unidad_manipulac', 'entrega', 'posicion', 'doc_ventas', 'posicion2', 'material', 'denominacion', 'fecha_hist', 'hora_hist']\n",
    "df = df.set_axis(columnas, axis = 1)"
   ]
  },
  {
   "cell_type": "code",
   "execution_count": null,
   "id": "47e00961-5a17-4025-b2ee-ae75b99b7049",
   "metadata": {},
   "outputs": [],
   "source": [
    "#Eliminar espacios antes y despues de strings\n",
    "columns_to_strip = ['material', 'denominacion']\n",
    "for col in columns_to_strip:\n",
    "    df[col] = df[col].astype(str).str.strip()"
   ]
  },
  {
   "cell_type": "code",
   "execution_count": null,
   "id": "5299e657-2811-4f79-b88c-f46cd2df68d4",
   "metadata": {},
   "outputs": [],
   "source": [
    "#Combinar fechas históricas y archivadas\n",
    "df = df.reset_index(drop=True)\n",
    "df['fecha_arch'] = pd.to_datetime(df['fecha_arch'].str.strip(), format='%d.%m.%Y', errors='coerce')\n",
    "df['fecha_hist'] = pd.to_datetime(df['fecha_hist'].str.strip(), format='%d.%m.%Y', errors='coerce')\n",
    "df['fecha'] = df['fecha_arch'].combine_first(df['fecha_hist'])"
   ]
  },
  {
   "cell_type": "code",
   "execution_count": null,
   "id": "a2e36b8f-4309-461e-8138-cb2f392c690f",
   "metadata": {},
   "outputs": [],
   "source": [
    "#Combianr horas históricas y archivadas\n",
    "df = df.reset_index(drop=True)\n",
    "df['hora_arch'] = df['hora_arch'].astype(str)\n",
    "df['hora_hist'] = df['hora_hist'].astype(str)\n",
    "df['hora_arch'] = pd.to_timedelta(df['hora_arch'].str.strip(), errors='coerce')\n",
    "df['hora_hist'] = pd.to_timedelta(df['hora_hist'].str.strip(), errors='coerce')\n",
    "df['hora'] = df['hora_arch'].combine_first(df['hora_hist'])"
   ]
  },
  {
   "cell_type": "code",
   "execution_count": null,
   "id": "893d6807-5b9f-402d-9e57-4c6c2d7c1ba1",
   "metadata": {},
   "outputs": [],
   "source": [
    "#Eliminar fechas y horas previas a la combinación\n",
    "df = df.drop(['fecha_arch', 'hora_arch', 'fecha_hist', 'hora_hist'], axis = 1)"
   ]
  },
  {
   "cell_type": "code",
   "execution_count": null,
   "id": "2eb325c3-d4c0-4184-9397-3c73c29d09fd",
   "metadata": {},
   "outputs": [],
   "source": [
    "#Calcular el turno donde se ha escaneado el producto\n",
    "def calcular_turno(row):\n",
    "    if row['hora'] >= pd.to_timedelta('01:00:00') and row['hora'] <= pd.to_timedelta('15:15:00'):\n",
    "        return 1\n",
    "    else:\n",
    "        return 2\n",
    "    \n",
    "df['turno'] = df.apply(calcular_turno, axis=1)"
   ]
  },
  {
   "cell_type": "code",
   "execution_count": null,
   "id": "16ba5714-44e1-4df6-b05a-6d944a57fcf6",
   "metadata": {},
   "outputs": [],
   "source": [
    "#Calcular mes y año\n",
    "df['mes'] = df['fecha'].dt.month\n",
    "df['year'] = df['fecha'].dt.year"
   ]
  },
  {
   "cell_type": "markdown",
   "id": "c6197196-859d-4aa2-b6d6-6c63cf4ee594",
   "metadata": {},
   "source": [
    "## 2: EDA DE LA PLANTA"
   ]
  },
  {
   "cell_type": "code",
   "execution_count": null,
   "id": "5a745936-8514-49ff-b496-fa132b449521",
   "metadata": {},
   "outputs": [],
   "source": [
    "#Filtrar escáneres relevantes\n",
    "scanners = ['SAPRFMADR26', 'SAPRFMADR20', 'SAPRFMADR23', 'SAPRFMADR16', 'SAPRFMADR19', 'SAPRFMADR21', 'SAPRFMADR17', 'SAPRFMADR18', 'SAPRFMADR15', 'SAPRFMADR24', 'SAPRFMADR25']\n",
    "df = df[df['scanner'].isin(scanners)]"
   ]
  },
  {
   "cell_type": "code",
   "execution_count": null,
   "id": "6a6704ec-49a4-4b60-a2e8-80b67c7dca6c",
   "metadata": {},
   "outputs": [],
   "source": [
    "#Cantidad de referencias fabricadas por cada scanner:\n",
    "sns.barplot(data = df.groupby('scanner').agg({'nodos': 'count' }).sort_values(by = 'nodos', ascending = False), x='scanner', y='nodos' )\n",
    "plt.xticks(rotation = 90)\n",
    "plt.ylabel('Productos fabricados')\n",
    "plt.show()\n",
    "\n",
    "#SAPRFMADR26 = Mesas\n",
    "#SAPRFMADR20 = Paneles\n",
    "#SAPRFMADR23 = Tableros\n",
    "#SAPRFMADR16 = Volumenes\n",
    "#SAPRFMADR19 = Conectores\n",
    "#SAPRFMADR21 = Varios\n",
    "#SAPRFMADR17 = Silla DO\n",
    "#SAPRFMADR18 = Pie Ajustable\n",
    "#SAPRFMADR15 = Bloques\n",
    "#SAPRFMADR24 = Carpinteria otros\n",
    "#SAPRFMADR25 = Partito Rail"
   ]
  },
  {
   "cell_type": "code",
   "execution_count": null,
   "id": "bee55ed3-9509-4272-9222-6b7bc98f13a4",
   "metadata": {},
   "outputs": [],
   "source": [
    "sns.lineplot(data = df.groupby(['mes', 'year']).agg({'nodos': 'count'}), x= 'mes', y= 'nodos', hue = 'year')\n",
    "plt.xticks(ticks=range(1, 13), labels=['Jan', 'Feb', 'Mar', 'Apr', 'May', 'Jun', 'Jul', 'Aug', 'Sep', 'Oct', 'Nov', 'Dec'])\n",
    "plt.ylabel('Productos fabricados')\n",
    "plt.show()"
   ]
  },
  {
   "cell_type": "markdown",
   "id": "91755639-ab1f-4f5d-8ade-2592b54bd48d",
   "metadata": {},
   "source": [
    "## 2: EDA DE LA LÍNEA DE LINEA VOLÚMENES Y BLOQUES (SAPRFMADR15 + SAPRFMADR16)"
   ]
  },
  {
   "cell_type": "code",
   "execution_count": null,
   "id": "8a9c53cd-a9c0-41bb-b5fd-1f536aec39df",
   "metadata": {},
   "outputs": [],
   "source": [
    "#Filtrar la linea de volúmenes y bloques\n",
    "df_vols = df[(df['scanner'] == 'SAPRFMADR16') | (df['scanner'] == 'SAPRFMADR15')]"
   ]
  },
  {
   "cell_type": "code",
   "execution_count": null,
   "id": "9d06f003-5d73-4f8f-818f-e88b22d2d3a1",
   "metadata": {},
   "outputs": [],
   "source": [
    "# Calculamr diferencia de tiempos entre piezas\n",
    "df_vols['delta'] = df_vols['hora'].diff().dt.total_seconds()"
   ]
  },
  {
   "cell_type": "code",
   "execution_count": null,
   "id": "bfb3c88e-d714-42d0-8f36-c5cb4714e442",
   "metadata": {},
   "outputs": [],
   "source": [
    "# Agregamos estado que represente si la pieza se ha producido tras un cambio de producto.\n",
    "df_vols['cambio'] = (df_vols['material'] != df_vols['material'].shift()).astype(int)\n",
    "\n",
    "# Añadimos un estado que represente pausas de > 10 mins\n",
    "df_vols['pausa'] = ((df_vols['delta'] > 600) | (df_vols['delta'] < 0)).astype(int)"
   ]
  },
  {
   "cell_type": "markdown",
   "id": "630f2f65-7116-441a-bd96-815c1be5a26c",
   "metadata": {},
   "source": [
    "### Estudiar Takt Times"
   ]
  },
  {
   "cell_type": "code",
   "execution_count": null,
   "id": "1a536644-1135-47cb-a5ba-9008054e55de",
   "metadata": {},
   "outputs": [],
   "source": [
    "# Estudiamos Takt Times de los volumenes filtrando los que se han hecho tras una pausa y tras cambio de producto.\n",
    "# Estudiamos Takt Times en turno 1 ya que la mano de obra es aproximádamente constante\n",
    "\n",
    "df_vols_takt_filtr = df_vols[(df_vols['cambio'] == 0) & (df_vols['pausa'] == 0) & (df_vols['turno'] == 1)]\n",
    "\n",
    "df_vols_takt_filtr_agrup = df_vols_takt_filtr.groupby(\n",
    "    ['denominacion']\n",
    ").agg({'delta' : ['mean', 'std', 'count']}).reset_index()\n",
    "\n",
    "df_vols_takt_filtr_agrup.columns = ['denominacion', 'media_takt', 'dev_std', 'fabricados']\n",
    "df_vols_takt_filtr_agrup = df_vols_takt_filtr_agrup.sort_values(by = 'fabricados', ascending= False)"
   ]
  },
  {
   "cell_type": "code",
   "execution_count": null,
   "id": "d436a7f4-b434-4938-85fe-a10d70b9e3a3",
   "metadata": {},
   "outputs": [],
   "source": [
    "#Tabla con productos mas fabricados, desviación estandar y Takt Time\n",
    "df_vols_takt_filtr_agrup"
   ]
  },
  {
   "cell_type": "code",
   "execution_count": null,
   "id": "1840b4bd-d836-4e5c-83f5-79b55c021423",
   "metadata": {},
   "outputs": [],
   "source": [
    "#Se observa Paretto claro en referencias fabricadas\n",
    "sns.barplot(data = df_vols_takt_filtr_agrup.head(20), x= 'fabricados', y= 'denominacion')\n",
    "plt.xlabel('Productos fabricados enero 2021- Julio 2024')\n",
    "plt.show()"
   ]
  },
  {
   "cell_type": "code",
   "execution_count": null,
   "id": "1402a85f-cdf2-4948-95bf-bf3756b27bbd",
   "metadata": {},
   "outputs": [],
   "source": [
    "sns.histplot(data = df_vols_takt_filtr_agrup, x= 'media_takt')\n",
    "plt.xlabel('Takt Time medio')\n",
    "plt.ylabel('Cantidad de productos')"
   ]
  },
  {
   "cell_type": "markdown",
   "id": "4f086ac2-dbcc-4399-980c-b737413885dc",
   "metadata": {},
   "source": [
    "### Estudiar productos fabricados cada dia"
   ]
  },
  {
   "cell_type": "code",
   "execution_count": null,
   "id": "211895c6-d3cf-4230-9ffd-972a86575108",
   "metadata": {},
   "outputs": [],
   "source": [
    "# Agrupar por fecha y denominación, y calcular la cantidad fabricada\n",
    "df_vols_productos_dia = (\n",
    "    df_vols.groupby(['fecha', 'denominacion'])['nodos']\n",
    "    .count()\n",
    "    .reset_index(name='cantidad_fabricada')\n",
    ")\n",
    "\n",
    "# Unir con el DataFrame de Takt Time filtrado para añadir el takt time de cada producto\n",
    "df_vols_productos_dia = df_vols_productos_dia.merge(\n",
    "    df_vols_takt_filtr_agrup[['denominacion', 'media_takt']], \n",
    "    on='denominacion'\n",
    ")\n",
    "\n",
    "# Calcular el tiempo de trabajo para cada producto\n",
    "df_vols_productos_dia['tiempo_trabajo'] = (\n",
    "    df_vols_productos_dia['cantidad_fabricada'] * df_vols_productos_dia['media_takt']\n",
    ")"
   ]
  },
  {
   "cell_type": "code",
   "execution_count": null,
   "id": "6affb3ed-e68f-4bd0-839f-832ced600523",
   "metadata": {},
   "outputs": [],
   "source": [
    "df_vols_trabajo_diario = df_vols_productos_dia.groupby(by='fecha').sum().reset_index()[['fecha', 'cantidad_fabricada', 'tiempo_trabajo']]\n",
    "df_vols_trabajo_diario['tiempo_trabajo_horas'] = df_vols_trabajo_diario['tiempo_trabajo'] / 3600\n",
    "df_vols_trabajo_diario['semana'] = df_vols_trabajo_diario['fecha'].dt.strftime('%Y-%U')\n",
    "df_vols_trabajo_diario"
   ]
  },
  {
   "cell_type": "code",
   "execution_count": null,
   "id": "d6248ff8-dfce-4f74-83eb-becc8163d278",
   "metadata": {},
   "outputs": [],
   "source": [
    "#Trabajo diario, serie muy caótica, dias de la semana aportan poco valor a nivel industrial\n",
    "dims = (15, 7)\n",
    "fig, ax = plt.subplots(figsize=dims)\n",
    "ax.set_ylim(0, 16)\n",
    "sns.lineplot(data = df_vols_trabajo_diario, x= 'fecha', y= 'tiempo_trabajo_horas')\n",
    "plt.ylabel('Horas de trabajo diarias')"
   ]
  },
  {
   "cell_type": "markdown",
   "id": "e94837d0-3297-4e59-86c7-89325850b3f5",
   "metadata": {},
   "source": [
    "### Estudiar productos fabricados cada semana"
   ]
  },
  {
   "cell_type": "code",
   "execution_count": null,
   "id": "14a4518a-c2a9-4cd1-8025-5764a61c6f63",
   "metadata": {},
   "outputs": [],
   "source": [
    "#Estudiar por semanas Y rellenar faltantes\n",
    "df_vols_trabajo_semanal = df_vols_trabajo_diario.drop('fecha', axis = 1).groupby(by = 'semana').sum().reset_index()\n",
    "\n",
    "def semana_a_fecha(semana_str):\n",
    "    year, week = map(int, semana_str.split('-'))\n",
    "    # Crear una fecha base el primer día del año\n",
    "    first_day_of_year = pd.Timestamp(year=year, month=1, day=1)\n",
    "    # Calcular la fecha del primer día de la semana específica\n",
    "    return first_day_of_year + pd.to_timedelta(week * 7 - first_day_of_year.dayofweek, unit='D')\n",
    "\n",
    "df_vols_trabajo_semanal['semana_primer_dia'] = df_vols_trabajo_semanal['semana'].apply(semana_a_fecha)"
   ]
  },
  {
   "cell_type": "code",
   "execution_count": null,
   "id": "004259b3-22e3-491c-a851-ed2745d704a0",
   "metadata": {},
   "outputs": [],
   "source": [
    "#Rellenar semanas faltantes\n",
    "semana_min = df_vols_trabajo_semanal['semana_primer_dia'].min()\n",
    "semana_max = df_vols_trabajo_semanal['semana_primer_dia'].max()\n",
    "todas_las_semanas = pd.date_range(semana_min, semana_max, freq='W-MON')\n",
    "df_todas_las_semanas = pd.DataFrame({'semana_primer_dia': todas_las_semanas})\n",
    "df_completo = pd.merge(df_todas_las_semanas, df_vols_trabajo_semanal, on='semana_primer_dia', how='left')\n",
    "df_completo['cantidad_fabricada'].fillna(0, inplace=True)\n",
    "df_completo['tiempo_trabajo'].fillna(0, inplace=True)\n",
    "df_completo['tiempo_trabajo_horas'].fillna(0, inplace=True)\n",
    "df_completo['semana'] = df_completo['semana_primer_dia'].dt.isocalendar().week.astype(str) + \"-\" + df_completo['semana_primer_dia'].dt.year.astype(str)\n",
    "df_completo.to_excel('trabajo_semanal.xlsx')\n",
    "df_vols_trabajo_semanal = df_completo"
   ]
  },
  {
   "cell_type": "code",
   "execution_count": null,
   "id": "edef113a-ccf5-4df1-b4cd-5beb3966f835",
   "metadata": {},
   "outputs": [],
   "source": [
    "df_vols_trabajo_semanal"
   ]
  },
  {
   "cell_type": "code",
   "execution_count": null,
   "id": "9b4e900c-5a37-49c1-9597-89696432307d",
   "metadata": {},
   "outputs": [],
   "source": [
    "#Trabajo Semanal en cantidad de productos \n",
    "dims = (20, 7)\n",
    "fig, ax = plt.subplots(figsize=dims)\n",
    "ax.set_ylim(0, 2000)\n",
    "plt.xticks(rotation=90)\n",
    "sns.lineplot(data = df_vols_trabajo_semanal, x= 'semana_primer_dia', y= 'cantidad_fabricada')"
   ]
  },
  {
   "cell_type": "code",
   "execution_count": null,
   "id": "2a8e30c8-e1d0-4e70-9d66-66bff43e8b25",
   "metadata": {},
   "outputs": [],
   "source": [
    "#Trabajo Semanal en Horas \n",
    "dims = (20, 7)\n",
    "fig, ax = plt.subplots(figsize=dims)\n",
    "ax.set_ylim(0, 55)\n",
    "plt.xticks(rotation=90)\n",
    "sns.lineplot(data = df_vols_trabajo_semanal, x= 'semana_primer_dia', y= 'tiempo_trabajo_horas')"
   ]
  },
  {
   "cell_type": "code",
   "execution_count": null,
   "id": "b9769d83-0aed-40e6-b2f9-ab3c6cb9f7ad",
   "metadata": {},
   "outputs": [],
   "source": [
    "#Exportar Dataframe para usarlo como punto de partida en resto del proyecto\n",
    "df_vols_trabajo_semanal.to_excel('./dataframes/df_vols_trabajo_semanal.xlsx')"
   ]
  }
 ],
 "metadata": {
  "kernelspec": {
   "display_name": "Python 3 (ipykernel)",
   "language": "python",
   "name": "python3"
  },
  "language_info": {
   "codemirror_mode": {
    "name": "ipython",
    "version": 3
   },
   "file_extension": ".py",
   "mimetype": "text/x-python",
   "name": "python",
   "nbconvert_exporter": "python",
   "pygments_lexer": "ipython3",
   "version": "3.10.13"
  }
 },
 "nbformat": 4,
 "nbformat_minor": 5
}
